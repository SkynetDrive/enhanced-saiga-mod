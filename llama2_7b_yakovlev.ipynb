
{
 "cells": [
  {
   "cell_type": "code",
   "execution_count": null,
   "metadata": {
    "colab": {
     "base_uri": "https://localhost:8080/"
    },
    "id": "MGYpq-FbCHvC",
    "outputId": "8ddc45ab-8060-4f25-bbd9-466a822c5ae5"
   },
   "outputs": [],
   "source": [
    "#@title Скачиваем и устанавливаем зависимости\n",
    "\n",
    "from pathlib import Path\n",
    "\n",
    "!git clone https://github.com/IlyaGusev/rulm.git\n",
    "!git clone https://github.com/ggerganov/llama.cpp.git\n",
    "\n",
    "self_instruct_dir = Path('rulm/self_instruct').resolve()\n",
    "\n",
    "!pip install -r requirements.txt"
   ]
  },
  {
   "cell_type": "code",
   "execution_count": null,
   "metadata": {
    "colab": {
     "base_uri": "https://localhost:8080/",
     "height": 126
    },
    "id": "zRDOnr5kCHvC",
    "outputId": "382718c1-6c3c-4574-81d2-94caa8d832a1"
   },
   "outputs": [],
   "source": [
    "#@title Логинимся в WandB\n",
    "\n",
    "import wandb\n",
    "\n",
    "wandb.login()"
   ]
  },
  {
   "cell_type": "code",
   "execution_count": null,
   "metadata": {
    "colab": {
     "base_uri": "https://localhost:8080/"
    },
    "id": "hkCeGj08CHvD",
    "outputId": "b7a025ea-0b87-41a3-9e48-0c62489e0a6b"
   },
   "outputs": [],
   "source": [
    "#@title Генерируем обучающую и валидационную выборку, обрезая её для Colab\n",
    "\n",
    "content_dir = Path('.').resolve()\n",
    "!cd {self_instruct_dir} && python -m src.data_processing.create_chat_set {content_dir / 'train_full.jsonl'} {content_dir / 'val_full.jsonl'}\n",
    "\n",
    "assert (content_dir / 'train_full.jsonl').exists()\n",
    "\n",
    "train_size_limit = 400  #@param {type:\"integer\"}\n",
    "val_size_limit = 200  #@param {type:\"integer\"}\n",
    "\n",
    "!head -n {train_size_limit} {content_dir / 'train_full.jsonl'} > {content_dir / 'train.jsonl'}\n",
    "!head -n {val_size_limit} {content_dir / 'val_full.jsonl'} > {content_dir / 'val.jsonl'}"
   ]
  },
  {
   "cell_type": "code",
   "execution_count": null,
   "metadata": {
    "colab": {
     "base_uri": "https://localhost:8080/",
     "height": 1000,
     "referenced_widgets": [
      "0bf3b113a4cf4ddc8934c933b2ba9028",
      "e7af4fcfb0964563b9849d7201cbdae7",
      "2e5ec594354a4eabba43e0ca6dfabeff",
      "6dedf091202342d786074d724d441f37",
      "1cb83c5453c647ee8ac9b28b7a162749",
      "54499804e81b46ccb9bebc1aaf11e34b",
      "3e9c42bda12a4c8f85fb980d9f852f32",
      "54d9e7ff53574c19bae347d3b9e6c07f",
      "618c5f4b796340858b5d6fd32aa99932",
      "a37d36b91f9048dca207f42565b89026",
      "9e67ea2f536b495e95bb0ed5c3bc45fa",
      "ebd08fa8644045ccbda1a09b4caf0dba",
      "0cd4622b3f3c4370b9a107ca06a546e3",
      "875b093532bb4c06abf61f3dc383e0f5",
      "6f0570a3cbd0406aa3da95f4d2b7ace2",
      "4408dd42b42f4f1585fb34a6da046601",
      "9cbd8a7b8fb54186b3f1030717494098",
      "200fd2b73f6248f799fea966ee10e8ed",
      "bfe68fce0c9041afa199b68541d2a5b1",
      "a1a1b5a5ffb94cbfbef7d45b028823fb",
      "0274c1a3faaa4599be58a5a8fcb49dd3",
      "2f3bd465706d474490e96213852c7a11",
      "5cee9f5c38a344a884c7f730645357ed",
      "439c853d9bec49c7a05471665c949888",
      "c4078082143c4345a0e3c680e879514b",
      "478d066cc89b4d79980e52e0944dafe9",
      "d530fbd9a8af4110a3ac9cf06b8a577a",
      "3689b5ee71704c588fb841b7dbfb898f",
      "1c92b6971e7a4089b7c7f16f8931ef91",
      "949676a3b10f4354b1956fd5d2a0edbd",
      "ba6410e7abfd461f9b4939b3eb0a8892",
      "d98d62f98b5a4b96bcec59f431c5756b",
      "53a97430091846b394f0d431ba0bc33a",
      "6f47121136404744aaafefc94c9a57a3",
      "7de0baea80bc49779245f6689462db61",
      "746cdcd4f39245279e1584c0b8c640a2",
      "6b67a3c178ea473197536f0de2088e6f",